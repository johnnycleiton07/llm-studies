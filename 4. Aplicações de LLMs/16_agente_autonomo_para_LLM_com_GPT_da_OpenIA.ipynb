{
  "cells": [
    {
      "cell_type": "markdown",
      "metadata": {
        "id": "g1auuML0OaSv"
      },
      "source": [
        "#Agente autônomo para LLM com GPT da OpenIA\n",
        "\n",
        "💻 [acessar este jupyter notebook no colab](https://colab.research.google.com/drive/1660pHmdFb_A168zsIlVLXBRL2LyqQWeq?usp=sharing)\n",
        "\n",
        "Esse agente autônomo tem como objetivo procurar no [arXiv](https://arxiv.org/) artigos relevantes e resumir as idéias principais do artigo com base na questão de pesquisa do usuário.\n",
        "\n",
        "Para construção do Agente será utilizado o LangChain, um framework desenvolvido em Python para desenvolver aplicativos alimentados por LLMs (Large Language Models), como GPT-3.5 e GPT-4. O código criado será uma versão altamente abstrata.\n",
        "\n",
        "###O que é um agente autônomo?\n",
        "\n",
        "É um sistema de IA projetado para realizar tarefas de forma autônoma visando atingir um objetivo.\n",
        "\n"
      ]
    },
    {
      "cell_type": "markdown",
      "source": [
        "##Configurações iniciais"
      ],
      "metadata": {
        "id": "OoIY9q4-0qAZ"
      }
    },
    {
      "cell_type": "code",
      "execution_count": null,
      "metadata": {
        "id": "IKH02VzUE3a6"
      },
      "outputs": [],
      "source": [
        "#instalando as bibliotecas necessárias\n",
        "\n",
        "!pip install openai\n",
        "!pip install langchain\n",
        "!pip install arxiv"
      ]
    },
    {
      "cell_type": "markdown",
      "metadata": {
        "id": "KSoK5qPJUY6Q"
      },
      "source": [
        "Definir a chave da API da OpenAI como uma variável de ambiente no contexto do script Python.\n",
        "\n",
        "* O módulo **os** fornece uma maneira de usar funcionalidades dependentes do sistema operacional\n",
        "* **os.environ** é um dicionário que representa as variáveis de ambiente do sistema\n",
        "* A chave de API da OpenAI pode ser adquirida através do [site](https://openai.com) (é pago)\n",
        "\n"
      ]
    },
    {
      "cell_type": "code",
      "execution_count": null,
      "metadata": {
        "id": "v7_D-2z_Tlrx"
      },
      "outputs": [],
      "source": [
        "import os\n",
        "os.environ[\"OPENAI_API_KEY\"] = \"SUA_CHAVE_AQUI\""
      ]
    },
    {
      "cell_type": "markdown",
      "metadata": {
        "id": "ux5euHfOVyxq"
      },
      "source": [
        "###Importar os pacotes necessários:\n",
        "\n",
        "* **load_tools** - usada para carregar ferramentas que o agente de linguagem pode usar para executar várias tarefas, como consultar APIs, acessar bancos de dados, ou realizar cálculos.\n",
        "* **initialize_agent** - utilizada para inicializar e configurar o agente de linguagem com as ferramentas e modelos de linguagem que ele usará para responder a perguntas ou realizar tarefas.\n",
        "* **AgentType** - é uma enumeração ou classe usada para especificar diferentes tipos de agentes que podem ser criados e utilizados dentro da biblioteca LangChain.\n",
        "* **Tool** - representa uma ferramenta que o agente pode usar. Cada Tool pode encapsular funcionalidades específicas, como fazer uma consulta em uma base de dados ou acessar uma API.\n",
        "* **ChatOpenAI** - é um modelo de chat da OpenAI. Essa classe é usada para interagir com os modelos de linguagem da OpenAI, como GPT-4, para gerar respostas baseadas em prompts.\n",
        "* **ArxivAPIWrapper** - é uma classe utilitária fornecida pela LangChain para interagir com a API do Arxiv."
      ]
    },
    {
      "cell_type": "code",
      "execution_count": null,
      "metadata": {
        "id": "R17JIe5MV7QQ"
      },
      "outputs": [],
      "source": [
        "!pip install -U langchain-community\n",
        "\n",
        "from langchain.agents import load_tools\n",
        "from langchain.agents import initialize_agent\n",
        "from langchain.agents import AgentType\n",
        "from langchain.agents import Tool\n",
        "from langchain.chat_models import ChatOpenAI\n",
        "from langchain.utilities import ArxivAPIWrapper"
      ]
    },
    {
      "cell_type": "markdown",
      "metadata": {
        "id": "UG3q0xU6bOJd"
      },
      "source": [
        "##Inicializando o LLM para uso\n",
        "\n",
        "* É necessário inicializar o modelo de chat da OpenAI com temperatura 0. A temperatura controla a aleatoriedade das respostas geradas. **Uma temperatura de 0 significa respostas mais determinísticas**.\n",
        "* **ArxivAPIWrapper** - classe que é uma camada de abstração para interagir com a API do arXiv. Ela facilita a busca e recuperação de artigos científicos do repositório arXiv sem precisar lidar diretamente com os detalhes da API.\n",
        "* **rxiv_tool** - deifine as características"
      ]
    },
    {
      "cell_type": "code",
      "execution_count": null,
      "metadata": {
        "id": "u4wT6navbO3k"
      },
      "outputs": [],
      "source": [
        "llm = ChatOpenAI(temperature=0) # Inicialize o LLM para ser usado\n",
        "arxiv = ArxivAPIWrapper()\n",
        "arxiv_tool = Tool(\n",
        "    name=\"arxiv_search\",\n",
        "    description=\"Search on arxiv. The tool can search a keyword on arxiv for the top papers. It will return publishing date, title, authors, and summary of the papers.\",\n",
        "    func=arxiv.run\n",
        ")\n",
        "\n",
        "tools = [arxiv_tool]"
      ]
    },
    {
      "cell_type": "code",
      "execution_count": null,
      "metadata": {
        "id": "312xuBk9iBk5"
      },
      "outputs": [],
      "source": [
        "agent_chain = initialize_agent(\n",
        "    tools,\n",
        "    llm,\n",
        "    agent=AgentType.ZERO_SHOT_REACT_DESCRIPTION,\n",
        "    verbose=True,\n",
        ")"
      ]
    },
    {
      "cell_type": "code",
      "execution_count": null,
      "metadata": {
        "id": "TYaXnrhdiFOY"
      },
      "outputs": [],
      "source": [
        "agent_chain.run(\"What is a Large Language Model?\")"
      ]
    }
  ],
  "metadata": {
    "colab": {
      "provenance": []
    },
    "kernelspec": {
      "display_name": "Python 3",
      "name": "python3"
    },
    "language_info": {
      "name": "python"
    }
  },
  "nbformat": 4,
  "nbformat_minor": 0
}