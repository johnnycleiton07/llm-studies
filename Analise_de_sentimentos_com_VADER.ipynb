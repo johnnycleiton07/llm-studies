{
  "nbformat": 4,
  "nbformat_minor": 0,
  "metadata": {
    "colab": {
      "provenance": [],
      "authorship_tag": "ABX9TyNgkM3ohVuuof7yeRVWrzKo",
      "include_colab_link": true
    },
    "kernelspec": {
      "name": "python3",
      "display_name": "Python 3"
    },
    "language_info": {
      "name": "python"
    }
  },
  "cells": [
    {
      "cell_type": "markdown",
      "metadata": {
        "id": "view-in-github",
        "colab_type": "text"
      },
      "source": [
        "<a href=\"https://colab.research.google.com/github/johnnycleiton07/llm-studies/blob/main/Analise_de_sentimentos_com_VADER.ipynb\" target=\"_parent\"><img src=\"https://colab.research.google.com/assets/colab-badge.svg\" alt=\"Open In Colab\"/></a>"
      ]
    },
    {
      "cell_type": "markdown",
      "source": [
        "#Análise de sentimento baseado em regras usando a biblioteca VADER\n",
        "\n",
        "VADER (Valence Aware Dictionary and sEntiment Reasoner) é uma biblioteca de análise de sentimentos em Python que utiliza uma abordagem baseada em regras e um dicionário de sentimentos para identificar o sentimento em textos.\n",
        "\n",
        "* VADER é particularmente eficaz para analisar sentimentos em textos curtos, como postagens de redes sociais, tweets e comentários. A biblioteca atribui uma pontuação de sentimento para cada palavra e, em seguida, combina essas pontuações para fornecer uma avaliação geral do sentimento do texto. Além de distinguir sentimentos positivos, negativos e neutros, VADER também leva em consideração a intensidade do sentimento, pontuando elementos como maiúsculas, pontuação e intensificadores.\n",
        "\n"
      ],
      "metadata": {
        "id": "leuQqVCwvCFg"
      }
    },
    {
      "cell_type": "code",
      "execution_count": 1,
      "metadata": {
        "colab": {
          "base_uri": "https://localhost:8080/"
        },
        "id": "XZVTfjJIu8c1",
        "outputId": "2e2a60c9-d25b-4c68-cd81-6f36b8d37af2"
      },
      "outputs": [
        {
          "output_type": "stream",
          "name": "stderr",
          "text": [
            "[nltk_data] Downloading package vader_lexicon to /root/nltk_data...\n"
          ]
        },
        {
          "output_type": "execute_result",
          "data": {
            "text/plain": [
              "True"
            ]
          },
          "metadata": {},
          "execution_count": 1
        }
      ],
      "source": [
        "import nltk\n",
        "nltk.download(\"vader_lexicon\")"
      ]
    },
    {
      "cell_type": "code",
      "source": [
        "from nltk.sentiment.vader import SentimentIntensityAnalyzer\n",
        "mas = SentimentIntensityAnalyzer()"
      ],
      "metadata": {
        "id": "2yPyDhxAvVoD"
      },
      "execution_count": 2,
      "outputs": []
    },
    {
      "cell_type": "code",
      "source": [
        "texto = 'I hate this movie! But I loved the girl'\n",
        "#texto = 'The cat is beautiful but agressive'\n",
        "#texto = 'I LOVE IT'\n",
        "#texto = 'I feel a terrible pain in my head'\n",
        "#texto = 'That actor is a lovely person'\n",
        "#texto = 'That actor is a terrible person'\n",
        "#texto = 'That actor is a good person'\n",
        "\n",
        "previsao_de_sentimento = mas.polarity_scores(texto)\n",
        "print(previsao_de_sentimento)"
      ],
      "metadata": {
        "colab": {
          "base_uri": "https://localhost:8080/"
        },
        "id": "vDGY2gZgvZDq",
        "outputId": "d9265d05-c8d2-462e-b1f5-ed9be775dcea"
      },
      "execution_count": 13,
      "outputs": [
        {
          "output_type": "stream",
          "name": "stdout",
          "text": [
            "{'neg': 0.181, 'neu': 0.385, 'pos': 0.434, 'compound': 0.6476}\n"
          ]
        }
      ]
    },
    {
      "cell_type": "code",
      "source": [
        "print(type(x))"
      ],
      "metadata": {
        "colab": {
          "base_uri": "https://localhost:8080/"
        },
        "id": "Xn1vxXtAvcSO",
        "outputId": "a22046c6-7b1a-4679-dcae-ee5b1c4988cb"
      },
      "execution_count": 14,
      "outputs": [
        {
          "output_type": "stream",
          "name": "stdout",
          "text": [
            "<class 'dict'>\n"
          ]
        }
      ]
    },
    {
      "cell_type": "code",
      "source": [
        "print(x['compound'])"
      ],
      "metadata": {
        "colab": {
          "base_uri": "https://localhost:8080/"
        },
        "id": "1BSjrzRcwp4Q",
        "outputId": "3f5ff41e-fba8-4059-cdb5-39c6128090a7"
      },
      "execution_count": 15,
      "outputs": [
        {
          "output_type": "stream",
          "name": "stdout",
          "text": [
            "0.4404\n"
          ]
        }
      ]
    },
    {
      "cell_type": "code",
      "source": [
        "from textblob import TextBlob\n",
        "teste = TextBlob(\"I Love NY!\")\n",
        "print(teste.sentiment)"
      ],
      "metadata": {
        "colab": {
          "base_uri": "https://localhost:8080/"
        },
        "id": "b_KFt3N7wtDE",
        "outputId": "2e684157-ba73-4920-bc31-b8037983e342"
      },
      "execution_count": 16,
      "outputs": [
        {
          "output_type": "stream",
          "name": "stdout",
          "text": [
            "Sentiment(polarity=0.625, subjectivity=0.6)\n"
          ]
        }
      ]
    },
    {
      "cell_type": "markdown",
      "source": [
        "##Traduzindo sentenças\n",
        "\n",
        "Aplicando tradução como alternativa para prever frases em PT-BR"
      ],
      "metadata": {
        "id": "f3MEqwfgu6aW"
      }
    },
    {
      "cell_type": "code",
      "source": [
        "!pip install translate"
      ],
      "metadata": {
        "colab": {
          "base_uri": "https://localhost:8080/"
        },
        "id": "IdsdC-_gwxwG",
        "outputId": "16d88b73-5ac7-461d-8d7a-f739b0eba76f"
      },
      "execution_count": 17,
      "outputs": [
        {
          "output_type": "stream",
          "name": "stdout",
          "text": [
            "Collecting translate\n",
            "  Downloading translate-3.6.1-py2.py3-none-any.whl (12 kB)\n",
            "Requirement already satisfied: click in /usr/local/lib/python3.10/dist-packages (from translate) (8.1.7)\n",
            "Requirement already satisfied: lxml in /usr/local/lib/python3.10/dist-packages (from translate) (4.9.4)\n",
            "Requirement already satisfied: requests in /usr/local/lib/python3.10/dist-packages (from translate) (2.31.0)\n",
            "Collecting libretranslatepy==2.1.1 (from translate)\n",
            "  Downloading libretranslatepy-2.1.1-py3-none-any.whl (3.2 kB)\n",
            "Requirement already satisfied: charset-normalizer<4,>=2 in /usr/local/lib/python3.10/dist-packages (from requests->translate) (3.3.2)\n",
            "Requirement already satisfied: idna<4,>=2.5 in /usr/local/lib/python3.10/dist-packages (from requests->translate) (3.7)\n",
            "Requirement already satisfied: urllib3<3,>=1.21.1 in /usr/local/lib/python3.10/dist-packages (from requests->translate) (2.0.7)\n",
            "Requirement already satisfied: certifi>=2017.4.17 in /usr/local/lib/python3.10/dist-packages (from requests->translate) (2024.7.4)\n",
            "Installing collected packages: libretranslatepy, translate\n",
            "Successfully installed libretranslatepy-2.1.1 translate-3.6.1\n"
          ]
        }
      ]
    },
    {
      "cell_type": "code",
      "source": [
        "from translate import Translator\n",
        "translator = Translator(from_lang=\"pt\", to_lang=\"en\")\n",
        "traducao = translator.translate(\"O Filme era fantástico!\")\n",
        "print(traducao)"
      ],
      "metadata": {
        "colab": {
          "base_uri": "https://localhost:8080/"
        },
        "id": "hEseEaVWw8wu",
        "outputId": "53f330dc-f088-42ae-dc4a-5d1434ab07db"
      },
      "execution_count": 18,
      "outputs": [
        {
          "output_type": "stream",
          "name": "stdout",
          "text": [
            "The movie was fantastic!\n"
          ]
        }
      ]
    },
    {
      "cell_type": "code",
      "source": [
        "previsao_de_sentimento = mas.polarity_scores(traducao)\n",
        "print(previsao_de_sentimento)"
      ],
      "metadata": {
        "colab": {
          "base_uri": "https://localhost:8080/"
        },
        "id": "4mnQEvhvxIN-",
        "outputId": "859240fa-3a48-4214-e839-c89a988152a2"
      },
      "execution_count": 20,
      "outputs": [
        {
          "output_type": "stream",
          "name": "stdout",
          "text": [
            "{'neg': 0.0, 'neu': 0.435, 'pos': 0.565, 'compound': 0.5983}\n"
          ]
        }
      ]
    }
  ]
}