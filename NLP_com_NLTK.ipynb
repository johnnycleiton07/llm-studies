{
  "nbformat": 4,
  "nbformat_minor": 0,
  "metadata": {
    "colab": {
      "provenance": [],
      "authorship_tag": "ABX9TyOjNoSrz01BWA7XLCQ1uprD",
      "include_colab_link": true
    },
    "kernelspec": {
      "name": "python3",
      "display_name": "Python 3"
    },
    "language_info": {
      "name": "python"
    }
  },
  "cells": [
    {
      "cell_type": "markdown",
      "metadata": {
        "id": "view-in-github",
        "colab_type": "text"
      },
      "source": [
        "<a href=\"https://colab.research.google.com/github/johnnycleiton07/llm-studies/blob/main/NLP_com_NLTK.ipynb\" target=\"_parent\"><img src=\"https://colab.research.google.com/assets/colab-badge.svg\" alt=\"Open In Colab\"/></a>"
      ]
    },
    {
      "cell_type": "markdown",
      "source": [
        "#Natural Language Toolkit (NLTK)\n",
        "\n",
        "\n",
        "O Natural Language Toolkit (NLTK) é uma biblioteca em Python amplamente utilizada para trabalhar com processamento de linguagem natural (PLN). Ela fornece ferramentas e recursos que facilitam o desenvolvimento de programas capazes de compreender e manipular dados de linguagem humana. Ela é a biblioteca de NLP mais antiga.\n",
        "\n",
        "Neste notebook, serão exploradas as funcionalidades principais desta biblioteca."
      ],
      "metadata": {
        "id": "Jns02wXBCuvd"
      }
    },
    {
      "cell_type": "markdown",
      "source": [
        "##Configurações Iniciais\n",
        "\n",
        "O Google Colab já possui a biblioteca instalada com seus módulos, basta apenas importa-la junto de seus pacotes."
      ],
      "metadata": {
        "id": "2RRAMmkuDOF5"
      }
    },
    {
      "cell_type": "code",
      "execution_count": 1,
      "metadata": {
        "colab": {
          "base_uri": "https://localhost:8080/"
        },
        "id": "bpt-_MJaAoFj",
        "outputId": "13828090-0845-4707-eb98-9f9f0e2d735f"
      },
      "outputs": [
        {
          "output_type": "stream",
          "name": "stderr",
          "text": [
            "[nltk_data] Downloading package stopwords to /root/nltk_data...\n",
            "[nltk_data]   Unzipping corpora/stopwords.zip.\n",
            "[nltk_data] Downloading package punkt to /root/nltk_data...\n",
            "[nltk_data]   Unzipping tokenizers/punkt.zip.\n",
            "[nltk_data] Downloading package tagsets to /root/nltk_data...\n",
            "[nltk_data]   Unzipping help/tagsets.zip.\n",
            "[nltk_data] Downloading package wordnet to /root/nltk_data...\n",
            "[nltk_data] Downloading package averaged_perceptron_tagger to\n",
            "[nltk_data]     /root/nltk_data...\n",
            "[nltk_data]   Unzipping taggers/averaged_perceptron_tagger.zip.\n",
            "[nltk_data] Downloading package maxent_ne_chunker to\n",
            "[nltk_data]     /root/nltk_data...\n",
            "[nltk_data]   Unzipping chunkers/maxent_ne_chunker.zip.\n",
            "[nltk_data] Downloading package words to /root/nltk_data...\n",
            "[nltk_data]   Unzipping corpora/words.zip.\n"
          ]
        },
        {
          "output_type": "execute_result",
          "data": {
            "text/plain": [
              "True"
            ]
          },
          "metadata": {},
          "execution_count": 1
        }
      ],
      "source": [
        "import nltk\n",
        "import string\n",
        "\n",
        "from nltk.corpus import stopwords\n",
        "from nltk.stem import PorterStemmer, WordNetLemmatizer, SnowballStemmer, LancasterStemmer\n",
        "from nltk.tokenize import word_tokenize, sent_tokenize\n",
        "from nltk.tag import pos_tag, pos_tag_sents\n",
        "\n",
        "#download de pacotes\n",
        "nltk.download(\"stopwords\") #faz o download da lista de palavras de parada\n",
        "nltk.download(\"punkt\") #faz o download do tokenizer de palavras e frases\n",
        "nltk.download(\"tagsets\") #faz o download de conjuntos de tags para POS tagging\n",
        "nltk.download(\"wordnet\") #az o download do WordNet, um banco de dados lexical para a lematização\n",
        "nltk.download(\"averaged_perceptron_tagger\") #faz o download do etiquetador de partes do discurso\n",
        "nltk.download(\"maxent_ne_chunker\") #faz o download do chunker de entidade nomeada\n",
        "nltk.download(\"words\") #faz o download de um corpus de palavras"
      ]
    },
    {
      "cell_type": "code",
      "source": [
        "Texto = \"Nós somos feitos de poeira de estrelas. Nós somos uma maneira de os cosmos se autoconhecer. A imaginação nos leva a mundos que nunca sequer existiram. Mas sem ela não vamos a lugar algum.\"\n",
        "print(Texto)"
      ],
      "metadata": {
        "colab": {
          "base_uri": "https://localhost:8080/"
        },
        "id": "HfOvraGkIvrr",
        "outputId": "0b92e4a5-020f-46e0-c2ce-98c280dbd830"
      },
      "execution_count": 2,
      "outputs": [
        {
          "output_type": "stream",
          "name": "stdout",
          "text": [
            "Nós somos feitos de poeira de estrelas. Nós somos uma maneira de os cosmos se autoconhecer. A imaginação nos leva a mundos que nunca sequer existiram. Mas sem ela não vamos a lugar algum.\n"
          ]
        }
      ]
    },
    {
      "cell_type": "code",
      "source": [
        "#Gerenciador de download\n",
        "nltk.download()"
      ],
      "metadata": {
        "colab": {
          "base_uri": "https://localhost:8080/"
        },
        "id": "yhQp0f4PLeS7",
        "outputId": "e3d3604c-eb62-4965-f71c-35542afa7fbe"
      },
      "execution_count": 3,
      "outputs": [
        {
          "name": "stdout",
          "output_type": "stream",
          "text": [
            "NLTK Downloader\n",
            "---------------------------------------------------------------------------\n",
            "    d) Download   l) List    u) Update   c) Config   h) Help   q) Quit\n",
            "---------------------------------------------------------------------------\n",
            "Downloader> l\n",
            "\n",
            "Packages:\n",
            "  [ ] abc................. Australian Broadcasting Commission 2006\n",
            "  [ ] alpino.............. Alpino Dutch Treebank\n",
            "  [*] averaged_perceptron_tagger Averaged Perceptron Tagger\n",
            "  [ ] averaged_perceptron_tagger_eng Averaged Perceptron Tagger (JSON)\n",
            "  [ ] averaged_perceptron_tagger_ru Averaged Perceptron Tagger (Russian)\n",
            "  [ ] averaged_perceptron_tagger_rus Averaged Perceptron Tagger (Russian)\n",
            "  [ ] basque_grammars..... Grammars for Basque\n",
            "  [ ] bcp47............... BCP-47 Language Tags\n",
            "  [ ] biocreative_ppi..... BioCreAtIvE (Critical Assessment of Information\n",
            "                           Extraction Systems in Biology)\n",
            "  [ ] bllip_wsj_no_aux.... BLLIP Parser: WSJ Model\n",
            "  [ ] book_grammars....... Grammars from NLTK Book\n",
            "  [ ] brown............... Brown Corpus\n",
            "  [ ] brown_tei........... Brown Corpus (TEI XML Version)\n",
            "  [ ] cess_cat............ CESS-CAT Treebank\n",
            "  [ ] cess_esp............ CESS-ESP Treebank\n",
            "  [ ] chat80.............. Chat-80 Data Files\n",
            "  [ ] city_database....... City Database\n",
            "  [ ] cmudict............. The Carnegie Mellon Pronouncing Dictionary (0.6)\n",
            "  [ ] comparative_sentences Comparative Sentence Dataset\n",
            "Hit Enter to continue: \n",
            "  [ ] comtrans............ ComTrans Corpus Sample\n",
            "  [ ] conll2000........... CONLL 2000 Chunking Corpus\n",
            "  [ ] conll2002........... CONLL 2002 Named Entity Recognition Corpus\n",
            "  [ ] conll2007........... Dependency Treebanks from CoNLL 2007 (Catalan\n",
            "                           and Basque Subset)\n",
            "  [ ] crubadan............ Crubadan Corpus\n",
            "  [ ] dependency_treebank. Dependency Parsed Treebank\n",
            "  [ ] dolch............... Dolch Word List\n",
            "  [ ] europarl_raw........ Sample European Parliament Proceedings Parallel\n",
            "                           Corpus\n",
            "  [ ] extended_omw........ Extended Open Multilingual WordNet\n",
            "  [ ] floresta............ Portuguese Treebank\n",
            "  [ ] framenet_v15........ FrameNet 1.5\n",
            "  [ ] framenet_v17........ FrameNet 1.7\n",
            "  [ ] gazetteers.......... Gazeteer Lists\n",
            "  [ ] genesis............. Genesis Corpus\n",
            "  [ ] gutenberg........... Project Gutenberg Selections\n",
            "  [ ] ieer................ NIST IE-ER DATA SAMPLE\n",
            "  [ ] inaugural........... C-Span Inaugural Address Corpus\n",
            "  [ ] indian.............. Indian Language POS-Tagged Corpus\n",
            "  [ ] jeita............... JEITA Public Morphologically Tagged Corpus (in\n",
            "                           ChaSen format)\n",
            "Hit Enter to continue: q\n",
            "\n",
            "---------------------------------------------------------------------------\n",
            "    d) Download   l) List    u) Update   c) Config   h) Help   q) Quit\n",
            "---------------------------------------------------------------------------\n",
            "Downloader> q\n"
          ]
        },
        {
          "output_type": "execute_result",
          "data": {
            "text/plain": [
              "True"
            ]
          },
          "metadata": {},
          "execution_count": 3
        }
      ]
    },
    {
      "cell_type": "markdown",
      "source": [
        "##Produção de Tokens\n",
        "\n",
        "A produção de tokens, ou tokenização envolve a divisão de um texto em unidades menores, chamadas tokens. Esses tokens podem ser palavras, frases, ou até mesmo caracteres, dependendo do nível de análise desejado.\n",
        "\n",
        "*  \"Eu gosto de programação\" -> [\"Eu\", \"gosto\", \"de\", \"programação\"]\n",
        "*  \"Eu gosto de programação. E você?\" -> [\"Eu gosto de programação.\", \"E você?\"]\n"
      ],
      "metadata": {
        "id": "qIr6Ck6QDUZ6"
      }
    },
    {
      "cell_type": "code",
      "source": [
        "#Tokenização de palavras\n",
        "\n",
        "tokens = word_tokenize(Texto, language=\"portuguese\")\n",
        "print(type(tokens))\n",
        "print(tokens)\n",
        "\n",
        "print(len(tokens))"
      ],
      "metadata": {
        "colab": {
          "base_uri": "https://localhost:8080/"
        },
        "id": "kowoFb5eNCiD",
        "outputId": "a4c43fad-ff6e-411a-e00b-52dd0944c73b"
      },
      "execution_count": 6,
      "outputs": [
        {
          "output_type": "stream",
          "name": "stdout",
          "text": [
            "<class 'list'>\n",
            "['Nós', 'somos', 'feitos', 'de', 'poeira', 'de', 'estrelas', '.', 'Nós', 'somos', 'uma', 'maneira', 'de', 'os', 'cosmos', 'se', 'autoconhecer', '.', 'A', 'imaginação', 'nos', 'leva', 'a', 'mundos', 'que', 'nunca', 'sequer', 'existiram', '.', 'Mas', 'sem', 'ela', 'não', 'vamos', 'a', 'lugar', 'algum', '.']\n",
            "38\n"
          ]
        }
      ]
    },
    {
      "cell_type": "code",
      "source": [
        "#Tokenização de sentenças\n",
        "\n",
        "sentencas = sent_tokenize(Texto, language=\"portuguese\")\n",
        "print(type(sentencas))\n",
        "print(sentencas)\n",
        "\n",
        "print(len(sentencas))"
      ],
      "metadata": {
        "colab": {
          "base_uri": "https://localhost:8080/"
        },
        "id": "gwkyBqmsMYlk",
        "outputId": "bb187d13-d7c8-464b-8e10-62317f7ee386"
      },
      "execution_count": 8,
      "outputs": [
        {
          "output_type": "stream",
          "name": "stdout",
          "text": [
            "<class 'list'>\n",
            "['Nós somos feitos de poeira de estrelas.', 'Nós somos uma maneira de os cosmos se autoconhecer.', 'A imaginação nos leva a mundos que nunca sequer existiram.', 'Mas sem ela não vamos a lugar algum.']\n",
            "4\n"
          ]
        }
      ]
    },
    {
      "cell_type": "markdown",
      "source": [
        "##Gerenciando Stop Words e Pontuação\n",
        "\n",
        "Stop words são palavras comuns que geralmente não carregam muito significado em análises textuais, como \"e\", \"a\", \"o\", \"de\", \"que\", etc. A remoção de stop words e pontuação pode ajudar a simplificar o texto e melhorar a eficácia de muitos algoritmos de PLN."
      ],
      "metadata": {
        "id": "ocMJgHotDZAz"
      }
    },
    {
      "cell_type": "code",
      "source": [
        "#Lista de stopwords na NLTK\n",
        "\n",
        "stops = stopwords.words(\"portuguese\")\n",
        "print(len(stops))\n",
        "print(stops)"
      ],
      "metadata": {
        "colab": {
          "base_uri": "https://localhost:8080/"
        },
        "id": "yXJkGxkYNgnj",
        "outputId": "91709005-cab4-4086-cdb2-ee8321b1b3ed"
      },
      "execution_count": 11,
      "outputs": [
        {
          "output_type": "stream",
          "name": "stdout",
          "text": [
            "207\n",
            "['a', 'à', 'ao', 'aos', 'aquela', 'aquelas', 'aquele', 'aqueles', 'aquilo', 'as', 'às', 'até', 'com', 'como', 'da', 'das', 'de', 'dela', 'delas', 'dele', 'deles', 'depois', 'do', 'dos', 'e', 'é', 'ela', 'elas', 'ele', 'eles', 'em', 'entre', 'era', 'eram', 'éramos', 'essa', 'essas', 'esse', 'esses', 'esta', 'está', 'estamos', 'estão', 'estar', 'estas', 'estava', 'estavam', 'estávamos', 'este', 'esteja', 'estejam', 'estejamos', 'estes', 'esteve', 'estive', 'estivemos', 'estiver', 'estivera', 'estiveram', 'estivéramos', 'estiverem', 'estivermos', 'estivesse', 'estivessem', 'estivéssemos', 'estou', 'eu', 'foi', 'fomos', 'for', 'fora', 'foram', 'fôramos', 'forem', 'formos', 'fosse', 'fossem', 'fôssemos', 'fui', 'há', 'haja', 'hajam', 'hajamos', 'hão', 'havemos', 'haver', 'hei', 'houve', 'houvemos', 'houver', 'houvera', 'houverá', 'houveram', 'houvéramos', 'houverão', 'houverei', 'houverem', 'houveremos', 'houveria', 'houveriam', 'houveríamos', 'houvermos', 'houvesse', 'houvessem', 'houvéssemos', 'isso', 'isto', 'já', 'lhe', 'lhes', 'mais', 'mas', 'me', 'mesmo', 'meu', 'meus', 'minha', 'minhas', 'muito', 'na', 'não', 'nas', 'nem', 'no', 'nos', 'nós', 'nossa', 'nossas', 'nosso', 'nossos', 'num', 'numa', 'o', 'os', 'ou', 'para', 'pela', 'pelas', 'pelo', 'pelos', 'por', 'qual', 'quando', 'que', 'quem', 'são', 'se', 'seja', 'sejam', 'sejamos', 'sem', 'ser', 'será', 'serão', 'serei', 'seremos', 'seria', 'seriam', 'seríamos', 'seu', 'seus', 'só', 'somos', 'sou', 'sua', 'suas', 'também', 'te', 'tem', 'tém', 'temos', 'tenha', 'tenham', 'tenhamos', 'tenho', 'terá', 'terão', 'terei', 'teremos', 'teria', 'teriam', 'teríamos', 'teu', 'teus', 'teve', 'tinha', 'tinham', 'tínhamos', 'tive', 'tivemos', 'tiver', 'tivera', 'tiveram', 'tivéramos', 'tiverem', 'tivermos', 'tivesse', 'tivessem', 'tivéssemos', 'tu', 'tua', 'tuas', 'um', 'uma', 'você', 'vocês', 'vos']\n"
          ]
        }
      ]
    },
    {
      "cell_type": "code",
      "source": [
        "#Removendo stopwords\n",
        "\n",
        "palavras_sem_stopwords = [p for p in tokens if p not in stops]\n",
        "print(len(palavras_sem_stopwords))\n",
        "print(Texto)\n",
        "print(palavras_sem_stopwords)"
      ],
      "metadata": {
        "colab": {
          "base_uri": "https://localhost:8080/"
        },
        "id": "UlbjXSuuN0S1",
        "outputId": "5554e78d-a2b3-4205-995e-f09ec00c408b"
      },
      "execution_count": 10,
      "outputs": [
        {
          "output_type": "stream",
          "name": "stdout",
          "text": [
            "23\n",
            "Nós somos feitos de poeira de estrelas. Nós somos uma maneira de os cosmos se autoconhecer. A imaginação nos leva a mundos que nunca sequer existiram. Mas sem ela não vamos a lugar algum.\n",
            "['Nós', 'feitos', 'poeira', 'estrelas', '.', 'Nós', 'maneira', 'cosmos', 'autoconhecer', '.', 'A', 'imaginação', 'leva', 'mundos', 'nunca', 'sequer', 'existiram', '.', 'Mas', 'vamos', 'lugar', 'algum', '.']\n"
          ]
        }
      ]
    },
    {
      "cell_type": "code",
      "source": [
        "#Lista de pontuações na NLTK\n",
        "\n",
        "print(string.punctuation)"
      ],
      "metadata": {
        "colab": {
          "base_uri": "https://localhost:8080/"
        },
        "id": "2_TRQu3aOduV",
        "outputId": "0034eb31-1e28-44b9-a58c-1f8ec077328c"
      },
      "execution_count": 12,
      "outputs": [
        {
          "output_type": "stream",
          "name": "stdout",
          "text": [
            "!\"#$%&'()*+,-./:;<=>?@[\\]^_`{|}~\n"
          ]
        }
      ]
    },
    {
      "cell_type": "code",
      "source": [
        "#Removendo pontuação\n",
        "\n",
        "palavras_sem_pontuacao = [p for p in palavras_sem_stopwords if p not in string.punctuation]\n",
        "print(len(palavras_sem_pontuacao))\n",
        "print(Texto)\n",
        "print(palavras_sem_pontuacao)"
      ],
      "metadata": {
        "colab": {
          "base_uri": "https://localhost:8080/"
        },
        "id": "6g47sprUOmfk",
        "outputId": "a00d288a-00a6-4147-a8cc-3997c245ee09"
      },
      "execution_count": 13,
      "outputs": [
        {
          "output_type": "stream",
          "name": "stdout",
          "text": [
            "19\n",
            "Nós somos feitos de poeira de estrelas. Nós somos uma maneira de os cosmos se autoconhecer. A imaginação nos leva a mundos que nunca sequer existiram. Mas sem ela não vamos a lugar algum.\n",
            "['Nós', 'feitos', 'poeira', 'estrelas', 'Nós', 'maneira', 'cosmos', 'autoconhecer', 'A', 'imaginação', 'leva', 'mundos', 'nunca', 'sequer', 'existiram', 'Mas', 'vamos', 'lugar', 'algum']\n"
          ]
        }
      ]
    },
    {
      "cell_type": "markdown",
      "source": [
        "##Produzindo Métricas\n",
        "\n",
        "Produzir métricas é uma etapa fundamental para avaliar a eficácia de técnicas de pré-processamento, como a remoção de stop words e pontuação, e para medir a performance de modelos de PLN.\n",
        "\n",
        "* Contagem de palavras: medida básica para entender o volume de texto;\n",
        "* Frequência de Termos: conta a frequência de cada palavra em um documento."
      ],
      "metadata": {
        "id": "whsobn4UDhbj"
      }
    },
    {
      "cell_type": "code",
      "source": [
        "frequencia = nltk.FreqDist(palavras_sem_pontuacao)\n",
        "print(frequencia)"
      ],
      "metadata": {
        "colab": {
          "base_uri": "https://localhost:8080/"
        },
        "id": "sDUxz7iPlUVA",
        "outputId": "46e64038-1844-4b10-cb03-d1d415383cbf"
      },
      "execution_count": 14,
      "outputs": [
        {
          "output_type": "stream",
          "name": "stdout",
          "text": [
            "<FreqDist with 18 samples and 19 outcomes>\n"
          ]
        }
      ]
    },
    {
      "cell_type": "code",
      "source": [
        "mais_comuns = frequencia.most_common(5)\n",
        "print(mais_comuns)"
      ],
      "metadata": {
        "colab": {
          "base_uri": "https://localhost:8080/"
        },
        "id": "DnHNTrjkl4hB",
        "outputId": "219cf1d8-fa35-4310-f423-9899ccc6ab00"
      },
      "execution_count": 16,
      "outputs": [
        {
          "output_type": "stream",
          "name": "stdout",
          "text": [
            "[('Nós', 2), ('feitos', 1), ('poeira', 1), ('estrelas', 1), ('maneira', 1)]\n"
          ]
        }
      ]
    },
    {
      "cell_type": "markdown",
      "source": [
        "##Stemming na Prática\n",
        "\n",
        "O processo de stemming é uma técnica de processamento de linguagem natural que reduz palavras às suas raízes ou formas básicas, removendo sufixos e afixos. Por exemplo, \"aprendizado\", \"aprendiz\", \"aprendendo\" se torna \"aprend\".\n",
        "\n",
        "Aplicação em frase:\n",
        "\n",
        "* [\"Eu\", \"estou\", \"amando\", \"o\", \"processo\", \"de\", \"aprendizado\", \".\", \"Envolve\", \"estudar\", \"e\", \"praticar\", \".\"]\n",
        "\n",
        "  Após o processo de stemming:\n",
        "\n",
        "* [\"eu\", \"est\", \"am\", \"o\", \"process\", \"de\", \"aprend\", \".\", \"envolv\", \"estud\", \"e\", \"pratic\", \".\"]"
      ],
      "metadata": {
        "id": "12qEwi2dD7cp"
      }
    },
    {
      "cell_type": "code",
      "source": [
        "#Porter - mais comun e mais antigo.\n",
        "\n",
        "stemmer1 = PorterStemmer()\n",
        "stem1 = [stemmer1.stem(word) for word in palavras_sem_stopwords]\n",
        "\n",
        "print(palavras_sem_pontuacao)\n",
        "print(stem1)"
      ],
      "metadata": {
        "colab": {
          "base_uri": "https://localhost:8080/"
        },
        "id": "aprzxhDVmYrB",
        "outputId": "cde670ca-0f68-4bf9-e65a-27f9cfe6cc07"
      },
      "execution_count": 17,
      "outputs": [
        {
          "output_type": "stream",
          "name": "stdout",
          "text": [
            "['Nós', 'feitos', 'poeira', 'estrelas', 'Nós', 'maneira', 'cosmos', 'autoconhecer', 'A', 'imaginação', 'leva', 'mundos', 'nunca', 'sequer', 'existiram', 'Mas', 'vamos', 'lugar', 'algum']\n",
            "['nó', 'feito', 'poeira', 'estrela', '.', 'nó', 'maneira', 'cosmo', 'autoconhec', '.', 'a', 'imaginação', 'leva', 'mundo', 'nunca', 'sequer', 'existiram', '.', 'ma', 'vamo', 'lugar', 'algum', '.']\n"
          ]
        }
      ]
    },
    {
      "cell_type": "code",
      "source": [
        "#Snowball - melhorado com relação ao Porter. Melhor performance computacional.\n",
        "\n",
        "stemmer2 = SnowballStemmer(\"portuguese\")\n",
        "stem2 = [stemmer2.stem(word) for word in palavras_sem_pontuacao]\n",
        "\n",
        "print(palavras_sem_pontuacao)\n",
        "print(stem2)"
      ],
      "metadata": {
        "colab": {
          "base_uri": "https://localhost:8080/"
        },
        "id": "BWPfAevRnu6z",
        "outputId": "e74402f7-a326-4c99-e33b-ba0ba6938766"
      },
      "execution_count": 18,
      "outputs": [
        {
          "output_type": "stream",
          "name": "stdout",
          "text": [
            "['Nós', 'feitos', 'poeira', 'estrelas', 'Nós', 'maneira', 'cosmos', 'autoconhecer', 'A', 'imaginação', 'leva', 'mundos', 'nunca', 'sequer', 'existiram', 'Mas', 'vamos', 'lugar', 'algum']\n",
            "['nós', 'feit', 'poeir', 'estrel', 'nós', 'maneir', 'cosm', 'autoconhec', 'a', 'imagin', 'lev', 'mund', 'nunc', 'sequ', 'exist', 'mas', 'vam', 'lug', 'algum']\n"
          ]
        }
      ]
    },
    {
      "cell_type": "code",
      "source": [
        "#Lancaster - mais agressivo. resultados as vezes não intuitivos.\n",
        "\n",
        "stemmer3 = LancasterStemmer()\n",
        "stem3 = [stemmer3.stem(word) for word in palavras_sem_pontuacao]\n",
        "\n",
        "print(palavras_sem_pontuacao)\n",
        "print(stem3)"
      ],
      "metadata": {
        "colab": {
          "base_uri": "https://localhost:8080/"
        },
        "id": "B0a-qMQ1ouSZ",
        "outputId": "f4f54e80-4758-463b-c548-ab47b8ba505a"
      },
      "execution_count": 19,
      "outputs": [
        {
          "output_type": "stream",
          "name": "stdout",
          "text": [
            "['Nós', 'feitos', 'poeira', 'estrelas', 'Nós', 'maneira', 'cosmos', 'autoconhecer', 'A', 'imaginação', 'leva', 'mundos', 'nunca', 'sequer', 'existiram', 'Mas', 'vamos', 'lugar', 'algum']\n",
            "['nós', 'feito', 'poeir', 'estrela', 'nós', 'maneir', 'cosmo', 'autoconhec', 'a', 'imaginação', 'lev', 'mundo', 'nunc', 'sequ', 'existiram', 'mas', 'vamo', 'lug', 'alg']\n"
          ]
        }
      ]
    },
    {
      "cell_type": "markdown",
      "source": [
        "##Criando POS-Taggin\n",
        "\n",
        "O objetivo principal do POS-Tagging (Part-of-Speech Tagging) é identificar a função gramatical de cada palavra em um texto, o que pode ajudar em várias tarefas de PLN. Exemplo básico de função gramatical:\n",
        "\n",
        "Frase: \"O gato preto dorme no sofá.\"\n",
        "\n",
        "* O: Artigo\n",
        "* gato: Substantivo\n",
        "* preto: Adjetivo\n",
        "* dorme: Verbo\n",
        "* no: Preposição + Artigo\n",
        "* sofá: Substantivo"
      ],
      "metadata": {
        "id": "WSN3GI7zEgxy"
      }
    },
    {
      "cell_type": "code",
      "source": [
        "#consulta de tags\n",
        "nltk.help.upenn_tagset()"
      ],
      "metadata": {
        "colab": {
          "base_uri": "https://localhost:8080/"
        },
        "id": "nmpmydLKpZl3",
        "outputId": "e3090157-f554-49ca-affb-c157a79e557e"
      },
      "execution_count": 20,
      "outputs": [
        {
          "output_type": "stream",
          "name": "stdout",
          "text": [
            "$: dollar\n",
            "    $ -$ --$ A$ C$ HK$ M$ NZ$ S$ U.S.$ US$\n",
            "'': closing quotation mark\n",
            "    ' ''\n",
            "(: opening parenthesis\n",
            "    ( [ {\n",
            "): closing parenthesis\n",
            "    ) ] }\n",
            ",: comma\n",
            "    ,\n",
            "--: dash\n",
            "    --\n",
            ".: sentence terminator\n",
            "    . ! ?\n",
            ":: colon or ellipsis\n",
            "    : ; ...\n",
            "CC: conjunction, coordinating\n",
            "    & 'n and both but either et for less minus neither nor or plus so\n",
            "    therefore times v. versus vs. whether yet\n",
            "CD: numeral, cardinal\n",
            "    mid-1890 nine-thirty forty-two one-tenth ten million 0.5 one forty-\n",
            "    seven 1987 twenty '79 zero two 78-degrees eighty-four IX '60s .025\n",
            "    fifteen 271,124 dozen quintillion DM2,000 ...\n",
            "DT: determiner\n",
            "    all an another any both del each either every half la many much nary\n",
            "    neither no some such that the them these this those\n",
            "EX: existential there\n",
            "    there\n",
            "FW: foreign word\n",
            "    gemeinschaft hund ich jeux habeas Haementeria Herr K'ang-si vous\n",
            "    lutihaw alai je jour objets salutaris fille quibusdam pas trop Monte\n",
            "    terram fiche oui corporis ...\n",
            "IN: preposition or conjunction, subordinating\n",
            "    astride among uppon whether out inside pro despite on by throughout\n",
            "    below within for towards near behind atop around if like until below\n",
            "    next into if beside ...\n",
            "JJ: adjective or numeral, ordinal\n",
            "    third ill-mannered pre-war regrettable oiled calamitous first separable\n",
            "    ectoplasmic battery-powered participatory fourth still-to-be-named\n",
            "    multilingual multi-disciplinary ...\n",
            "JJR: adjective, comparative\n",
            "    bleaker braver breezier briefer brighter brisker broader bumper busier\n",
            "    calmer cheaper choosier cleaner clearer closer colder commoner costlier\n",
            "    cozier creamier crunchier cuter ...\n",
            "JJS: adjective, superlative\n",
            "    calmest cheapest choicest classiest cleanest clearest closest commonest\n",
            "    corniest costliest crassest creepiest crudest cutest darkest deadliest\n",
            "    dearest deepest densest dinkiest ...\n",
            "LS: list item marker\n",
            "    A A. B B. C C. D E F First G H I J K One SP-44001 SP-44002 SP-44005\n",
            "    SP-44007 Second Third Three Two * a b c d first five four one six three\n",
            "    two\n",
            "MD: modal auxiliary\n",
            "    can cannot could couldn't dare may might must need ought shall should\n",
            "    shouldn't will would\n",
            "NN: noun, common, singular or mass\n",
            "    common-carrier cabbage knuckle-duster Casino afghan shed thermostat\n",
            "    investment slide humour falloff slick wind hyena override subhumanity\n",
            "    machinist ...\n",
            "NNP: noun, proper, singular\n",
            "    Motown Venneboerger Czestochwa Ranzer Conchita Trumplane Christos\n",
            "    Oceanside Escobar Kreisler Sawyer Cougar Yvette Ervin ODI Darryl CTCA\n",
            "    Shannon A.K.C. Meltex Liverpool ...\n",
            "NNPS: noun, proper, plural\n",
            "    Americans Americas Amharas Amityvilles Amusements Anarcho-Syndicalists\n",
            "    Andalusians Andes Andruses Angels Animals Anthony Antilles Antiques\n",
            "    Apache Apaches Apocrypha ...\n",
            "NNS: noun, common, plural\n",
            "    undergraduates scotches bric-a-brac products bodyguards facets coasts\n",
            "    divestitures storehouses designs clubs fragrances averages\n",
            "    subjectivists apprehensions muses factory-jobs ...\n",
            "PDT: pre-determiner\n",
            "    all both half many quite such sure this\n",
            "POS: genitive marker\n",
            "    ' 's\n",
            "PRP: pronoun, personal\n",
            "    hers herself him himself hisself it itself me myself one oneself ours\n",
            "    ourselves ownself self she thee theirs them themselves they thou thy us\n",
            "PRP$: pronoun, possessive\n",
            "    her his mine my our ours their thy your\n",
            "RB: adverb\n",
            "    occasionally unabatingly maddeningly adventurously professedly\n",
            "    stirringly prominently technologically magisterially predominately\n",
            "    swiftly fiscally pitilessly ...\n",
            "RBR: adverb, comparative\n",
            "    further gloomier grander graver greater grimmer harder harsher\n",
            "    healthier heavier higher however larger later leaner lengthier less-\n",
            "    perfectly lesser lonelier longer louder lower more ...\n",
            "RBS: adverb, superlative\n",
            "    best biggest bluntest earliest farthest first furthest hardest\n",
            "    heartiest highest largest least less most nearest second tightest worst\n",
            "RP: particle\n",
            "    aboard about across along apart around aside at away back before behind\n",
            "    by crop down ever fast for forth from go high i.e. in into just later\n",
            "    low more off on open out over per pie raising start teeth that through\n",
            "    under unto up up-pp upon whole with you\n",
            "SYM: symbol\n",
            "    % & ' '' ''. ) ). * + ,. < = > @ A[fj] U.S U.S.S.R * ** ***\n",
            "TO: \"to\" as preposition or infinitive marker\n",
            "    to\n",
            "UH: interjection\n",
            "    Goodbye Goody Gosh Wow Jeepers Jee-sus Hubba Hey Kee-reist Oops amen\n",
            "    huh howdy uh dammit whammo shucks heck anyways whodunnit honey golly\n",
            "    man baby diddle hush sonuvabitch ...\n",
            "VB: verb, base form\n",
            "    ask assemble assess assign assume atone attention avoid bake balkanize\n",
            "    bank begin behold believe bend benefit bevel beware bless boil bomb\n",
            "    boost brace break bring broil brush build ...\n",
            "VBD: verb, past tense\n",
            "    dipped pleaded swiped regummed soaked tidied convened halted registered\n",
            "    cushioned exacted snubbed strode aimed adopted belied figgered\n",
            "    speculated wore appreciated contemplated ...\n",
            "VBG: verb, present participle or gerund\n",
            "    telegraphing stirring focusing angering judging stalling lactating\n",
            "    hankerin' alleging veering capping approaching traveling besieging\n",
            "    encrypting interrupting erasing wincing ...\n",
            "VBN: verb, past participle\n",
            "    multihulled dilapidated aerosolized chaired languished panelized used\n",
            "    experimented flourished imitated reunifed factored condensed sheared\n",
            "    unsettled primed dubbed desired ...\n",
            "VBP: verb, present tense, not 3rd person singular\n",
            "    predominate wrap resort sue twist spill cure lengthen brush terminate\n",
            "    appear tend stray glisten obtain comprise detest tease attract\n",
            "    emphasize mold postpone sever return wag ...\n",
            "VBZ: verb, present tense, 3rd person singular\n",
            "    bases reconstructs marks mixes displeases seals carps weaves snatches\n",
            "    slumps stretches authorizes smolders pictures emerges stockpiles\n",
            "    seduces fizzes uses bolsters slaps speaks pleads ...\n",
            "WDT: WH-determiner\n",
            "    that what whatever which whichever\n",
            "WP: WH-pronoun\n",
            "    that what whatever whatsoever which who whom whosoever\n",
            "WP$: WH-pronoun, possessive\n",
            "    whose\n",
            "WRB: Wh-adverb\n",
            "    how however whence whenever where whereby whereever wherein whereof why\n",
            "``: opening quotation mark\n",
            "    ` ``\n"
          ]
        }
      ]
    },
    {
      "cell_type": "code",
      "source": [
        "#Currently, NLTK pos_tag only supports English and Russian (i.e. lang='eng' or lang='rus')\n",
        "pos = nltk.pos_tag(palavras_sem_pontuacao, lang=\"eng\")\n",
        "print(pos)"
      ],
      "metadata": {
        "colab": {
          "base_uri": "https://localhost:8080/"
        },
        "id": "lNQxU5h5pnL5",
        "outputId": "777c7e8b-156c-4d90-8b4f-a2739e8f7c7e"
      },
      "execution_count": 22,
      "outputs": [
        {
          "output_type": "stream",
          "name": "stdout",
          "text": [
            "[('Nós', 'NNP'), ('feitos', 'NN'), ('poeira', 'NN'), ('estrelas', 'NNS'), ('Nós', 'NNP'), ('maneira', 'NN'), ('cosmos', 'NN'), ('autoconhecer', 'VBZ'), ('A', 'DT'), ('imaginação', 'JJ'), ('leva', 'NN'), ('mundos', 'NN'), ('nunca', 'JJ'), ('sequer', 'NN'), ('existiram', 'NN'), ('Mas', 'NNP'), ('vamos', 'NN'), ('lugar', 'NN'), ('algum', 'NN')]\n"
          ]
        }
      ]
    },
    {
      "cell_type": "code",
      "source": [
        "token2 = sent_tokenize(Texto)\n",
        "\n",
        "ntokens = []\n",
        "for tokensentenca in token2:\n",
        "  ntokens.append(word_tokenize(tokensentenca))\n",
        "\n",
        "print(ntokens)\n",
        "\n",
        "possentenca = pos_tag_sents(ntokens)\n",
        "print(possentenca)"
      ],
      "metadata": {
        "colab": {
          "base_uri": "https://localhost:8080/"
        },
        "id": "AfSWDPTQqM7x",
        "outputId": "1892ff66-25d8-49f6-894b-dc2c29138fe1"
      },
      "execution_count": 23,
      "outputs": [
        {
          "output_type": "stream",
          "name": "stdout",
          "text": [
            "[['Nós', 'somos', 'feitos', 'de', 'poeira', 'de', 'estrelas', '.'], ['Nós', 'somos', 'uma', 'maneira', 'de', 'os', 'cosmos', 'se', 'autoconhecer', '.'], ['A', 'imaginação', 'nos', 'leva', 'a', 'mundos', 'que', 'nunca', 'sequer', 'existiram', '.'], ['Mas', 'sem', 'ela', 'não', 'vamos', 'a', 'lugar', 'algum', '.']]\n",
            "[[('Nós', 'NNP'), ('somos', 'VBD'), ('feitos', 'NNS'), ('de', 'FW'), ('poeira', 'FW'), ('de', 'FW'), ('estrelas', 'FW'), ('.', '.')], [('Nós', 'NNP'), ('somos', 'NN'), ('uma', 'JJ'), ('maneira', 'NN'), ('de', 'IN'), ('os', 'FW'), ('cosmos', 'NNS'), ('se', 'JJ'), ('autoconhecer', 'NN'), ('.', '.')], [('A', 'DT'), ('imaginação', 'JJ'), ('nos', 'JJ'), ('leva', 'NN'), ('a', 'DT'), ('mundos', 'NN'), ('que', 'NN'), ('nunca', 'JJ'), ('sequer', 'NN'), ('existiram', 'NN'), ('.', '.')], [('Mas', 'NNP'), ('sem', 'NN'), ('ela', 'NN'), ('não', 'JJ'), ('vamos', 'NN'), ('a', 'DT'), ('lugar', 'NN'), ('algum', 'NN'), ('.', '.')]]\n"
          ]
        }
      ]
    },
    {
      "cell_type": "markdown",
      "source": [
        "##Lemmatization na Prática\n",
        "\n",
        "Lematizar é o processo de transformar uma palavra em sua forma base ou raiz, conhecida como \"lema\".\n",
        "\n",
        "Por exemplo:\n",
        "\n",
        "* As palavras \"corri\", \"correndo\" e \"correria\" seriam lematizadas para o lema \"correr\".\n",
        "* As palavras \"amigos\" e \"amigo\" seriam lematizadas para \"amigo\".\n",
        "\n",
        "**Stemming x Lematization**\n",
        "\n",
        "O stemming visa reduzir palavras morfologicamente relacionadas à sua forma básica, enquanto a lematização busca retornar palavras à sua forma canônica. A lematização é mais complexa do que o stemming porque requer conhecimento linguístico mais profundo e geralmente utiliza dicionários ou bases de conhecimento (como o WordNet para o inglês) para mapear palavras para seus lemas correspondentes.\n",
        "\n"
      ],
      "metadata": {
        "id": "FdC9z5qMFY1K"
      }
    },
    {
      "cell_type": "code",
      "source": [
        "lemmatizer = WordNetLemmatizer()\n",
        "resultado = [lemmatizer.lemmatize(palavra) for palavra in palavras_sem_stopwords]\n",
        "\n",
        "print(palavras_sem_pontuacao)\n",
        "print(resultado)"
      ],
      "metadata": {
        "colab": {
          "base_uri": "https://localhost:8080/"
        },
        "id": "1mur7AAerDBM",
        "outputId": "786b03d8-ac8e-4a7a-f29a-bbea46b757ad"
      },
      "execution_count": 25,
      "outputs": [
        {
          "output_type": "stream",
          "name": "stdout",
          "text": [
            "['Nós', 'feitos', 'poeira', 'estrelas', 'Nós', 'maneira', 'cosmos', 'autoconhecer', 'A', 'imaginação', 'leva', 'mundos', 'nunca', 'sequer', 'existiram', 'Mas', 'vamos', 'lugar', 'algum']\n",
            "['Nós', 'feitos', 'poeira', 'estrelas', '.', 'Nós', 'maneira', 'cosmos', 'autoconhecer', '.', 'A', 'imaginação', 'lev', 'mundos', 'nunca', 'sequer', 'existiram', '.', 'Mas', 'vamos', 'lugar', 'algum', '.']\n"
          ]
        }
      ]
    },
    {
      "cell_type": "markdown",
      "source": [
        "##Busca de Entidades Nomeadas\n",
        "\n",
        "A busca de Entidades Nomeadas (Named Entity Recognition - NER) visa identificar e classificar entidades significativas em textos não estruturados, como nomes de pessoas, locais, organizações, datas, quantidades, entre outros. Essas entidades são geralmente informações chave que ajudam na compreensão e na extração de informações de documentos textuais."
      ],
      "metadata": {
        "id": "v-39DsetFcaz"
      }
    },
    {
      "cell_type": "code",
      "source": [
        "texto_en = \"Barack Obama foi um presidente dos EUA\"\n",
        "\n",
        "token3 = word_tokenize(texto_en)\n",
        "tags = pos_tag(token3)\n",
        "en = nltk.ne_chunk(tags)\n",
        "\n",
        "print(en)"
      ],
      "metadata": {
        "colab": {
          "base_uri": "https://localhost:8080/"
        },
        "id": "dTQ6M4FAsZ7s",
        "outputId": "adf7771a-147f-4b29-d58d-2de9a6ede1d3"
      },
      "execution_count": null,
      "outputs": [
        {
          "output_type": "stream",
          "name": "stdout",
          "text": [
            "(S\n",
            "  (PERSON Barack/NNP)\n",
            "  (ORGANIZATION Obama/NNP)\n",
            "  foi/NN\n",
            "  um/JJ\n",
            "  presidente/NN\n",
            "  dos/NN\n",
            "  (ORGANIZATION EUA/NNP))\n"
          ]
        }
      ]
    }
  ]
}