{
  "nbformat": 4,
  "nbformat_minor": 0,
  "metadata": {
    "colab": {
      "provenance": [],
      "authorship_tag": "ABX9TyMCLuBM2E0yitYkD9aUYnha",
      "include_colab_link": true
    },
    "kernelspec": {
      "name": "python3",
      "display_name": "Python 3"
    },
    "language_info": {
      "name": "python"
    }
  },
  "cells": [
    {
      "cell_type": "markdown",
      "metadata": {
        "id": "view-in-github",
        "colab_type": "text"
      },
      "source": [
        "<a href=\"https://colab.research.google.com/github/johnnycleiton07/llm-studies/blob/main/Testando_modelo_GPT_da_OpenAI.ipynb\" target=\"_parent\"><img src=\"https://colab.research.google.com/assets/colab-badge.svg\" alt=\"Open In Colab\"/></a>"
      ]
    },
    {
      "cell_type": "markdown",
      "source": [
        "#Testando o modelo GPT da OpenAI\n",
        "\n",
        "A API da OpenAI é paga, portanto é necessário ir ao [site da API da OpenAI](https://openai.com/index/openai-api/) e configurar sua conta para pagamento."
      ],
      "metadata": {
        "id": "4P3ly2c3nYp2"
      }
    },
    {
      "cell_type": "code",
      "execution_count": null,
      "metadata": {
        "id": "neG0rxRNnXtP"
      },
      "outputs": [],
      "source": [
        "!pip install openai"
      ]
    },
    {
      "cell_type": "code",
      "source": [
        "from openai import OpenAI"
      ],
      "metadata": {
        "id": "uVRQ5YMwnlpV"
      },
      "execution_count": null,
      "outputs": []
    },
    {
      "cell_type": "code",
      "source": [
        "client = OpenAI(api_key=\"SUA_CHAVE_AQUI\")\n",
        "model = \"gpt-3.5-turbo\""
      ],
      "metadata": {
        "id": "IPkSFRI7nqDm"
      },
      "execution_count": null,
      "outputs": []
    },
    {
      "cell_type": "markdown",
      "source": [
        "\n",
        "\n",
        "---\n",
        "\n",
        "\n",
        "##Pedindo para a IA contar uma piada\n",
        "\n",
        "No exemplo, a IA foi instruida a contar uma piada."
      ],
      "metadata": {
        "id": "n4vJRKuBoG9l"
      }
    },
    {
      "cell_type": "code",
      "source": [
        "response = client.chat.completions.create(\n",
        "    model = model,\n",
        "    messages = [\n",
        "        {\"role\":\"user\",\"content\":\"Tell me a Joke\"}\n",
        "    ]\n",
        ")\n",
        "\n",
        "print(response)"
      ],
      "metadata": {
        "id": "PE3J4603nz6e",
        "collapsed": true
      },
      "execution_count": null,
      "outputs": []
    },
    {
      "cell_type": "code",
      "source": [
        "message = response.choices[0].message.content\n",
        "print(message)"
      ],
      "metadata": {
        "id": "fCWWplMroOwN"
      },
      "execution_count": null,
      "outputs": []
    },
    {
      "cell_type": "markdown",
      "source": [
        "\n",
        "\n",
        "---\n",
        "\n",
        "\n",
        "##Pedindo para a IA retornar recomendação de algo\n",
        "\n",
        "No exemplo, ela foi condicionada a se passar por um Assistente de Investimentos e perguntada sobre qual a melhor forma de investir sem riscos este ano."
      ],
      "metadata": {
        "id": "uMwE0AAjocJt"
      }
    },
    {
      "cell_type": "code",
      "source": [
        "response = client.chat.completions.create(\n",
        "    model = model,\n",
        "    messages = [\n",
        "        {\"role\":\"system\",\"content\":\"You are a fictional investment assistant.\"},\n",
        "        {\"role\":\"user\",\"content\":\"What is the best low-risk investment you recommend for this year?\"}\n",
        "    ]\n",
        ")\n",
        "\n",
        "print(response)"
      ],
      "metadata": {
        "id": "0b2gV_wZohIo"
      },
      "execution_count": null,
      "outputs": []
    },
    {
      "cell_type": "code",
      "source": [
        "message = response.choices[0].message.content\n",
        "print(message)"
      ],
      "metadata": {
        "id": "rtR9We-ZpAv3"
      },
      "execution_count": null,
      "outputs": []
    },
    {
      "cell_type": "markdown",
      "source": [
        "Uma adaptação é continuar a conversa a partir da resposta dada. Copia algo da resposta do modelo e faz uma nova pergunta."
      ],
      "metadata": {
        "id": "_vjCa2Vmpox1"
      }
    },
    {
      "cell_type": "code",
      "source": [
        "response = client.chat.completions.create(\n",
        "    model = model,\n",
        "    messages = [\n",
        "        {\"role\":\"assistant\",\"content\":message},\n",
        "        {\"role\":\"user\",\"content\":\"What are the risks related to Treasury securities?\"}\n",
        "    ]\n",
        ")\n",
        "print(response)"
      ],
      "metadata": {
        "id": "IPjz-iqapwUD"
      },
      "execution_count": null,
      "outputs": []
    },
    {
      "cell_type": "code",
      "source": [
        "message = response.choices[0].message.content\n",
        "print(message)"
      ],
      "metadata": {
        "id": "k7S9ljFTqGav"
      },
      "execution_count": null,
      "outputs": []
    }
  ]
}